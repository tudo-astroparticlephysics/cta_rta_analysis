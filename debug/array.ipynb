{
 "cells": [
  {
   "cell_type": "code",
   "execution_count": 37,
   "metadata": {
    "ExecuteTime": {
     "end_time": "2018-04-17T16:29:26.689638Z",
     "start_time": "2018-04-17T16:29:26.660731Z"
    }
   },
   "outputs": [],
   "source": [
    "import numpy as np\n",
    "from ctapipe.io.eventsourcefactory import EventSourceFactory\n",
    "from ctapipe.calib import CameraCalibrator\n",
    "from ctapipe.image.hillas import hillas_parameters\n",
    "from ctapipe.image.cleaning import tailcuts_clean\n",
    "from tqdm import tqdm\n",
    "\n",
    "import matplotlib.pyplot as plt\n",
    "%matplotlib inline"
   ]
  },
  {
   "cell_type": "code",
   "execution_count": 38,
   "metadata": {
    "ExecuteTime": {
     "end_time": "2018-04-17T16:29:26.999226Z",
     "start_time": "2018-04-17T16:29:26.977997Z"
    }
   },
   "outputs": [],
   "source": [
    "names_to_id = {'LSTCam': 1, 'NectarCam': 2, 'FlashCam': 3, 'DigiCam': 4, 'CHEC': 5}\n",
    "types_to_id = {'LST': 1, 'MST': 2, 'SST': 3}\n",
    "allowed_cameras = ['LSTCam', 'NectarCam', 'DigiCam']"
   ]
  },
  {
   "cell_type": "code",
   "execution_count": 8,
   "metadata": {
    "ExecuteTime": {
     "end_time": "2018-04-17T16:16:27.642958Z",
     "start_time": "2018-04-17T16:16:27.624009Z"
    }
   },
   "outputs": [],
   "source": [
    "n_events = 100\n",
    "gamma_file='./raw/gamma_20deg_0deg_run485___cta-prod3-merged_desert-2150m-Paranal-3HB89-NGFD.simtel.gz'"
   ]
  },
  {
   "cell_type": "code",
   "execution_count": 9,
   "metadata": {
    "ExecuteTime": {
     "end_time": "2018-04-17T16:16:27.910305Z",
     "start_time": "2018-04-17T16:16:27.860424Z"
    }
   },
   "outputs": [
    {
     "name": "stderr",
     "output_type": "stream",
     "text": [
      "WARNING:ctapipe.io.hessioeventsource.HESSIOEventSource:Only one pyhessio event_source allowed at a time. Previous hessio file will be closed.\n"
     ]
    }
   ],
   "source": [
    "event_source = EventSourceFactory.produce(\n",
    "    input_url=gamma_file,\n",
    "    max_events=n_events if n_events > 1 else None,\n",
    "    \n",
    ")\n",
    "\n",
    "calibrator = CameraCalibrator(\n",
    "    eventsource=event_source,\n",
    "    r1_product='HESSIOR1Calibrator',\n",
    ")\n"
   ]
  },
  {
   "cell_type": "code",
   "execution_count": 19,
   "metadata": {
    "ExecuteTime": {
     "end_time": "2018-04-17T16:19:00.492905Z",
     "start_time": "2018-04-17T16:18:52.323840Z"
    }
   },
   "outputs": [
    {
     "name": "stderr",
     "output_type": "stream",
     "text": [
      "100it [00:06, 16.48it/s]\n"
     ]
    }
   ],
   "source": [
    "events =  [e for e in tqdm(event_source)]\n",
    "[calibrator.calibrate(e) for e in events]\n",
    "None"
   ]
  },
  {
   "cell_type": "code",
   "execution_count": 20,
   "metadata": {
    "ExecuteTime": {
     "end_time": "2018-04-17T16:19:00.507673Z",
     "start_time": "2018-04-17T16:19:00.497141Z"
    }
   },
   "outputs": [],
   "source": [
    "event = events[0]"
   ]
  },
  {
   "cell_type": "code",
   "execution_count": 68,
   "metadata": {
    "ExecuteTime": {
     "end_time": "2018-04-17T16:41:24.227028Z",
     "start_time": "2018-04-17T16:41:24.179484Z"
    }
   },
   "outputs": [
    {
     "data": {
      "text/plain": [
       "array([  1,   2,   3,   4,   5,   6,   7,   8,   9,  10,  11,  12,  13,\n",
       "        14,  15,  16,  17,  18,  19,  20,  21,  22,  23,  24,  25,  26,\n",
       "        27,  28,  29, 125, 126, 127, 128, 129, 130, 131, 132, 133, 134,\n",
       "       135, 136, 137, 138, 139, 140, 141, 142, 143, 144, 145, 146, 147,\n",
       "       148, 149, 150, 151, 152, 153, 154, 155, 156, 157, 158, 159, 160,\n",
       "       161, 162, 163, 164, 165, 166, 167, 168, 169, 170, 171, 172, 173,\n",
       "       174, 175, 176, 177, 178, 179, 180, 181, 182, 183, 184, 185, 186,\n",
       "       187, 188, 189, 190, 191, 192, 193, 194], dtype=int32)"
      ]
     },
     "execution_count": 68,
     "metadata": {},
     "output_type": "execute_result"
    }
   ],
   "source": [
    "lst_tel_ids = np.array([i for (i, tel) in event.inst.subarray.tel.items() if tel.camera.cam_id  == 'LSTCam'])\n",
    "mst_tel_ids = np.array([i for (i, tel) in event.inst.subarray.tel.items() if tel.camera.cam_id  == 'NectarCam'])\n",
    "sst_tel_ids = np.array([i for (i, tel) in event.inst.subarray.tel.items() if tel.camera.cam_id  == 'DigiCam'])\n",
    "\n",
    "allowed_tel_ids = np.concatenate([lst_tel_ids, mst_tel_ids, sst_tel_ids])\n",
    "allowed_tel_ids"
   ]
  },
  {
   "cell_type": "code",
   "execution_count": 69,
   "metadata": {
    "ExecuteTime": {
     "end_time": "2018-04-17T16:42:09.345135Z",
     "start_time": "2018-04-17T16:42:08.641644Z"
    }
   },
   "outputs": [
    {
     "data": {
      "image/png": "[encoded data removed]",
      "text/plain": [
       "<matplotlib.figure.Figure at 0x1122e74e0>"
      ]
     },
     "metadata": {},
     "output_type": "display_data"
    }
   ],
   "source": [
    "plt.figure(figsize=(10, 10))\n",
    "x = event.inst.subarray.pos_x[lst_tel_ids - 1]\n",
    "y = event.inst.subarray.pos_y[lst_tel_ids - 1]\n",
    "plt.scatter(x, y, s=45)\n",
    "x = event.inst.subarray.pos_x[mst_tel_ids - 1]\n",
    "y = event.inst.subarray.pos_y[mst_tel_ids - 1]\n",
    "plt.scatter(x, y, s=45)\n",
    "x = event.inst.subarray.pos_x[sst_tel_ids - 1]\n",
    "y = event.inst.subarray.pos_y[sst_tel_ids - 1]\n",
    "plt.scatter(x, y, s=45)\n",
    "plt.axes().set_aspect('equal')"
   ]
  },
  {
   "cell_type": "code",
   "execution_count": null,
   "metadata": {},
   "outputs": [],
   "source": []
  }
 ],
 "metadata": {
  "kernelspec": {
   "display_name": "Python 3",
   "language": "python",
   "name": "python3"
  },
  "language_info": {
   "codemirror_mode": {
    "name": "ipython",
    "version": 3
   },
   "file_extension": ".py",
   "mimetype": "text/x-python",
   "name": "python",
   "nbconvert_exporter": "python",
   "pygments_lexer": "ipython3",
   "version": "3.6.4"
  }
 },
 "nbformat": 4,
 "nbformat_minor": 2
}
