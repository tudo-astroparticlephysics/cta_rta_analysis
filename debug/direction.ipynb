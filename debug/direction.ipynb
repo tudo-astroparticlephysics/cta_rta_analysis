{
 "cells": [
  {
   "cell_type": "code",
   "execution_count": 96,
   "metadata": {
    "ExecuteTime": {
     "end_time": "2018-04-24T09:39:14.786706Z",
     "start_time": "2018-04-24T09:39:14.718541Z"
    },
    "collapsed": true
   },
   "outputs": [],
   "source": [
    "import numpy as np\n",
    "from ctapipe.io.eventsourcefactory import EventSourceFactory\n",
    "from ctapipe.calib import CameraCalibrator\n",
    "from ctapipe.image.hillas import hillas_parameters, HillasParameterizationError\n",
    "from ctapipe.image.cleaning import tailcuts_clean\n",
    "from ctapipe.reco import HillasReconstructor\n",
    "import astropy.units as u\n",
    "from astropy.coordinates import Angle\n",
    "import matplotlib.pyplot as plt\n",
    "from collections import namedtuple, Counter\n",
    "from astropy.coordinates.angle_utilities import angular_separation\n",
    "\n",
    "from tqdm import tqdm\n",
    "import pandas as pd\n",
    "import glob\n",
    "\n",
    "import matplotlib.pyplot as plt\n",
    "%matplotlib inline"
   ]
  },
  {
   "cell_type": "code",
   "execution_count": 46,
   "metadata": {
    "ExecuteTime": {
     "end_time": "2018-04-24T09:26:29.226972Z",
     "start_time": "2018-04-24T09:26:29.206652Z"
    },
    "collapsed": true
   },
   "outputs": [],
   "source": [
    "names_to_id = {'LSTCam': 1, 'NectarCam': 2, 'FlashCam': 3, 'DigiCam': 4, 'CHEC': 5}\n",
    "types_to_id = {'LST': 1, 'MST': 2, 'SST': 3}\n",
    "allowed_cameras = ['LSTCam', 'NectarCam', 'DigiCam']\n",
    "allowed_tel_ids = [  1,   2,   3,   4,   5,   6,   7,   8,   9,  10,  11,  12,  13,\n",
    "        14,  15,  16,  17,  18,  19,  20,  21,  22,  23,  24,  25,  26,\n",
    "        27,  28,  29, 125, 126, 127, 128, 129, 130, 131, 132, 133, 134,\n",
    "       135, 136, 137, 138, 139, 140, 141, 142, 143, 144, 145, 146, 147,\n",
    "       148, 149, 150, 151, 152, 153, 154, 155, 156, 157, 158, 159, 160,\n",
    "       161, 162, 163, 164, 165, 166, 167, 168, 169, 170, 171, 172, 173,\n",
    "       174, 175, 176, 177, 178, 179, 180, 181, 182, 183, 184, 185, 186,\n",
    "       187, 188, 189, 190, 191, 192, 193, 194]\n",
    "\n",
    "SubMomentParameters = namedtuple('SubMomentParameters', 'size,cen_x,cen_y,length,width,psi')"
   ]
  },
  {
   "cell_type": "code",
   "execution_count": 111,
   "metadata": {
    "ExecuteTime": {
     "end_time": "2018-04-24T09:42:45.576178Z",
     "start_time": "2018-04-24T09:42:45.449942Z"
    },
    "collapsed": true
   },
   "outputs": [],
   "source": [
    "import warnings\n",
    "from astropy.utils.exceptions import AstropyDeprecationWarning\n",
    "# do some horrible things to silence warnings in ctapipe\n",
    "warnings.filterwarnings('ignore', category=AstropyDeprecationWarning, append=True)\n",
    "warnings.filterwarnings('ignore', category=FutureWarning, append=True)\n",
    "np.warnings.filterwarnings('ignore')\n",
    "\n",
    "def direction(event):\n",
    "    reco = HillasReconstructor()\n",
    "    \n",
    "    features = {}\n",
    "    params = {}\n",
    "    pointing_azimuth = {}\n",
    "    pointing_altitude = {}\n",
    "    \n",
    "    counter = Counter\n",
    "    for telescope_id, dl1 in event.dl1.tel.items():\n",
    "        camera = event.inst.subarray.tels[telescope_id].camera\n",
    "\n",
    "        mask = tailcuts_clean(camera, dl1.image[0], boundary_thresh=5, picture_thresh=10)\n",
    "        telescope_type_name = event.inst.subarray.tels[telescope_id].optics.tel_type\n",
    "        \n",
    "        image = dl1.image[0].copy()\n",
    "        image[~mask] = 0\n",
    "        \n",
    "        h = hillas_parameters(\n",
    "            camera,\n",
    "            image,\n",
    "            container=True\n",
    "        )\n",
    "        \n",
    "        # the data in each event has to be put inside these namedtuples to call reco.predict\n",
    "        moments = SubMomentParameters(size=h.intensity, cen_x=h.x, cen_y=h.y, length=h.length, width=h.width, psi=h.psi )\n",
    "        params[telescope_id] = moments\n",
    "        pointing_azimuth[telescope_id] = event.mc.tel[telescope_id].azimuth_raw * u.rad\n",
    "        pointing_altitude[telescope_id] = ((np.pi/2) - event.mc.tel[telescope_id].altitude_raw )* u.rad\n",
    "        \n",
    "\n",
    "    reconstruction = reco.predict(params, event.inst, pointing_azimuth, pointing_altitude)\n",
    "    d = {\n",
    "        'mc_alt': event.mc.alt.rad,\n",
    "        'mc_az': event.mc.az.rad,\n",
    "        'mc_core_x': event.mc.core_x.value,\n",
    "        'mc_core_y': event.mc.core_y.value,\n",
    "        'mc_height_first_interaction': event.mc.h_first_int.value,\n",
    "        'alt_prediction': reconstruction.alt.si.value,\n",
    "        'az_prediction': reconstruction.az.si.value,\n",
    "        'core_x_prediction': reconstruction.core_x.value,\n",
    "        'core_y_prediction': reconstruction.core_y.value,\n",
    "        'h_max_prediction': reconstruction.h_max.value,\n",
    "    }\n",
    "    return d\n",
    "    \n",
    "def strip_unit(v):\n",
    "    try:\n",
    "        return v.si.value\n",
    "    except AttributeError:\n",
    "        return v"
   ]
  },
  {
   "cell_type": "code",
   "execution_count": 112,
   "metadata": {
    "ExecuteTime": {
     "end_time": "2018-04-24T09:42:45.873155Z",
     "start_time": "2018-04-24T09:42:45.849239Z"
    },
    "collapsed": true
   },
   "outputs": [],
   "source": [
    "def analyze_file(input_file, allowed_tel_ids, n_events=-1):\n",
    "    event_source = EventSourceFactory.produce(\n",
    "        input_url=input_file,\n",
    "        max_events=n_events if n_events > 1 else None,\n",
    "        allowed_tels=allowed_tel_ids\n",
    "    )\n",
    "\n",
    "    calibrator = CameraCalibrator(\n",
    "        eventsource=event_source,\n",
    "    )\n",
    "\n",
    "    features = []\n",
    "    for e in tqdm(event_source):\n",
    "        calibrator.calibrate(e)\n",
    "        try:\n",
    "            h = direction(e)\n",
    "            features.append(h)\n",
    "        except (HillasParameterizationError, NameError) as err:\n",
    "            continue\n",
    "        \n",
    "    return pd.DataFrame(features)"
   ]
  },
  {
   "cell_type": "code",
   "execution_count": 136,
   "metadata": {
    "ExecuteTime": {
     "end_time": "2018-04-24T10:07:43.721649Z",
     "start_time": "2018-04-24T10:01:36.638595Z"
    },
    "scrolled": true
   },
   "outputs": [
    {
     "name": "stderr",
     "output_type": "stream",
     "text": [
      "WARNING:ctapipe.io.hessioeventsource.HESSIOEventSource:Only one pyhessio event_source allowed at a time. Previous hessio file will be closed.\n",
      "238it [00:41,  5.60it/s]\n",
      "WARNING:ctapipe.io.hessioeventsource.HESSIOEventSource:Only one pyhessio event_source allowed at a time. Previous hessio file will be closed.\n",
      "258it [00:47,  7.66it/s]\n",
      "WARNING:ctapipe.io.hessioeventsource.HESSIOEventSource:Only one pyhessio event_source allowed at a time. Previous hessio file will be closed.\n",
      "230it [00:41,  3.06it/s]\n",
      "WARNING:ctapipe.io.hessioeventsource.HESSIOEventSource:Only one pyhessio event_source allowed at a time. Previous hessio file will be closed.\n",
      "222it [00:43,  4.00it/s]\n",
      "WARNING:ctapipe.io.hessioeventsource.HESSIOEventSource:Only one pyhessio event_source allowed at a time. Previous hessio file will be closed.\n",
      "179it [00:37,  4.69it/s]\n",
      "WARNING:ctapipe.io.hessioeventsource.HESSIOEventSource:Only one pyhessio event_source allowed at a time. Previous hessio file will be closed.\n",
      "237it [00:39,  7.99it/s]\n",
      "WARNING:ctapipe.io.hessioeventsource.HESSIOEventSource:Only one pyhessio event_source allowed at a time. Previous hessio file will be closed.\n",
      "212it [00:35,  5.56it/s]\n",
      "WARNING:ctapipe.io.hessioeventsource.HESSIOEventSource:Only one pyhessio event_source allowed at a time. Previous hessio file will be closed.\n",
      "206it [00:37,  6.53it/s]\n",
      "WARNING:ctapipe.io.hessioeventsource.HESSIOEventSource:Only one pyhessio event_source allowed at a time. Previous hessio file will be closed.\n",
      "250it [00:43,  5.74it/s]\n"
     ]
    }
   ],
   "source": [
    "frames=[]\n",
    "for f in glob.glob('../../gamma_20deg_0deg_run460*.simtel.gz'):\n",
    "    frames.append(analyze_file(f, allowed_tel_ids))\n",
    "\n",
    "df = pd.concat(frames)"
   ]
  },
  {
   "cell_type": "code",
   "execution_count": 137,
   "metadata": {
    "ExecuteTime": {
     "end_time": "2018-04-24T10:07:43.732034Z",
     "start_time": "2018-04-24T10:07:43.725223Z"
    }
   },
   "outputs": [
    {
     "data": {
      "text/plain": [
       "(1715, 10)"
      ]
     },
     "execution_count": 137,
     "metadata": {},
     "output_type": "execute_result"
    }
   ],
   "source": [
    "df.shape"
   ]
  },
  {
   "cell_type": "code",
   "execution_count": 138,
   "metadata": {
    "ExecuteTime": {
     "end_time": "2018-04-24T10:07:44.039826Z",
     "start_time": "2018-04-24T10:07:43.736095Z"
    }
   },
   "outputs": [
    {
     "data": {
      "text/plain": [
       "[<matplotlib.lines.Line2D at 0x23fcbc588>]"
      ]
     },
     "execution_count": 138,
     "metadata": {},
     "output_type": "execute_result"
    },
    {
     "data": {
      "image/png": "[encoded data removed]",
      "text/plain": [
       "<Figure size 432x288 with 1 Axes>"
      ]
     },
     "metadata": {},
     "output_type": "display_data"
    }
   ],
   "source": [
    "a = Angle(df.mc_az.values, unit=u.rad)\n",
    "ax = plt.subplot(111, projection='polar')\n",
    "ax.plot(a, np.ones_like(a))\n",
    "# plt.hist(Angle(df.mc_az * u.rad).rad, bins=100)"
   ]
  },
  {
   "cell_type": "code",
   "execution_count": 139,
   "metadata": {
    "ExecuteTime": {
     "end_time": "2018-04-24T10:07:44.065366Z",
     "start_time": "2018-04-24T10:07:44.041888Z"
    }
   },
   "outputs": [
    {
     "name": "stdout",
     "output_type": "stream",
     "text": [
      "1715\n"
     ]
    }
   ],
   "source": [
    "mc_az = Angle(df.mc_az.values, unit=u.rad)\n",
    "mc_alt = Angle(df.mc_alt.values, unit=u.rad)\n",
    "\n",
    "az = Angle(df.az_prediction.values, unit=u.rad)\n",
    "alt = Angle(df.alt_prediction.values, unit=u.rad)\n",
    "\n",
    "# print(az, alt, mc_az, mc_alt)\n",
    "distance = angular_separation(mc_az, mc_alt, az, alt).to('deg')\n",
    "print(len(distance))"
   ]
  },
  {
   "cell_type": "code",
   "execution_count": 147,
   "metadata": {
    "ExecuteTime": {
     "end_time": "2018-04-24T10:13:09.282549Z",
     "start_time": "2018-04-24T10:13:09.063143Z"
    }
   },
   "outputs": [
    {
     "data": {
      "text/plain": [
       "(array([11., 32., 32., 34., 51., 42., 37., 29., 35., 34., 32., 50., 39.,\n",
       "        38., 41., 33., 28., 20., 15., 31., 35., 29., 22., 33., 47., 40.,\n",
       "        23., 38., 33., 27.]),\n",
       " array([0.        , 0.16666667, 0.33333333, 0.5       , 0.66666667,\n",
       "        0.83333333, 1.        , 1.16666667, 1.33333333, 1.5       ,\n",
       "        1.66666667, 1.83333333, 2.        , 2.16666667, 2.33333333,\n",
       "        2.5       , 2.66666667, 2.83333333, 3.        , 3.16666667,\n",
       "        3.33333333, 3.5       , 3.66666667, 3.83333333, 4.        ,\n",
       "        4.16666667, 4.33333333, 4.5       , 4.66666667, 4.83333333,\n",
       "        5.        ]),\n",
       " <a list of 30 Patch objects>)"
      ]
     },
     "execution_count": 147,
     "metadata": {},
     "output_type": "execute_result"
    },
    {
     "data": {
      "image/png": "[encoded data removed]",
      "text/plain": [
       "<Figure size 432x288 with 1 Axes>"
      ]
     },
     "metadata": {},
     "output_type": "display_data"
    }
   ],
   "source": [
    "plt.hist(distance, range=(0, 5), bins=30)"
   ]
  },
  {
   "cell_type": "code",
   "execution_count": 145,
   "metadata": {
    "ExecuteTime": {
     "end_time": "2018-04-24T10:08:40.946613Z",
     "start_time": "2018-04-24T10:08:40.939846Z"
    }
   },
   "outputs": [
    {
     "data": {
      "text/plain": [
       "5.322582478514606"
      ]
     },
     "execution_count": 145,
     "metadata": {},
     "output_type": "execute_result"
    }
   ],
   "source": [
    "np.nanpercentile(distance, 68)"
   ]
  },
  {
   "cell_type": "code",
   "execution_count": null,
   "metadata": {
    "collapsed": true
   },
   "outputs": [],
   "source": []
  }
 ],
 "metadata": {
  "kernelspec": {
   "display_name": "Python 3",
   "language": "python",
   "name": "python3"
  },
  "language_info": {
   "codemirror_mode": {
    "name": "ipython",
    "version": 3
   },
   "file_extension": ".py",
   "mimetype": "text/x-python",
   "name": "python",
   "nbconvert_exporter": "python",
   "pygments_lexer": "ipython3",
   "version": "3.6.5"
  }
 },
 "nbformat": 4,
 "nbformat_minor": 2
}
