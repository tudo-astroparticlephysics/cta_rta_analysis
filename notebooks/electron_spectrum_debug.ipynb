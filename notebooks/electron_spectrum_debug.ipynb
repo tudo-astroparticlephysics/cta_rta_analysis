{
 "cells": [
  {
   "cell_type": "code",
   "execution_count": 1,
   "metadata": {},
   "outputs": [],
   "source": [
    "from cta_plots.mc.spectrum import CTAElectronSpectrum\n",
    "import matplotlib.pyplot as plt\n",
    "import astropy.units as u\n",
    "import numpy as np\n",
    "from scipy.stats import norm\n",
    "\n",
    "%matplotlib inline"
   ]
  },
  {
   "cell_type": "code",
   "execution_count": 2,
   "metadata": {},
   "outputs": [],
   "source": [
    "spec = CTAElectronSpectrum()"
   ]
  },
  {
   "cell_type": "code",
   "execution_count": 3,
   "metadata": {},
   "outputs": [
    {
     "data": {
      "text/latex": [
       "$0.00011784416 \\; \\mathrm{\\frac{TeV^{2}}{s\\,sr\\,m^{2}}}$"
      ],
      "text/plain": [
       "<Quantity 0.00011784 TeV2 / (m2 s sr)>"
      ]
     },
     "execution_count": 3,
     "metadata": {},
     "output_type": "execute_result"
    }
   ],
   "source": [
    "E = 0.1*u.TeV \n",
    "s = spec.flux(E)*E**3\n",
    "s.to('TeV2 m-2 s-1 sr-1')"
   ]
  },
  {
   "cell_type": "code",
   "execution_count": 4,
   "metadata": {},
   "outputs": [
    {
     "data": {
      "text/plain": [
       "0.24197072451914337"
      ]
     },
     "execution_count": 4,
     "metadata": {},
     "output_type": "execute_result"
    }
   ],
   "source": [
    "norm.pdf(1)"
   ]
  },
  {
   "cell_type": "code",
   "execution_count": 7,
   "metadata": {},
   "outputs": [],
   "source": [
    "def function_aswg_report(energy):\n",
    "    I_0 = 4.385E-9/(u.cm**2 *u.s * u.TeV * u.sr)\n",
    "    gamma = 3.43\n",
    "    mu = -1.101\n",
    "    sigma = .741\n",
    "    f = 2.000\n",
    "    \n",
    "    gauss = norm.pdf(np.log(energy/u.TeV), loc=mu, scale=sigma)\n",
    "    flux = I_0 * (energy/(1*u.TeV))**(-gamma + 0.1)\n",
    "    flux *= 1 + (f * np.exp(gauss) - 1)\n",
    "    return flux"
   ]
  },
  {
   "cell_type": "code",
   "execution_count": 8,
   "metadata": {},
   "outputs": [
    {
     "data": {
      "image/png": "[encoded data removed]",
      "text/plain": [
       "<Figure size 432x288 with 1 Axes>"
      ]
     },
     "metadata": {
      "needs_background": "light"
     },
     "output_type": "display_data"
    }
   ],
   "source": [
    "energies = np.logspace(-2, 1, 200) * u.TeV\n",
    "power = 3\n",
    "\n",
    "f = energies**power * spec.flux(energies)\n",
    "plt.plot(energies.value, f.to('TeV2 m-2 s-1 sr-1').value, label='old imp')\n",
    "\n",
    "f = energies**power * function_aswg_report(energies)\n",
    "\n",
    "plt.plot(energies.value, f.to('TeV2 m-2 s-1 sr-1').value, label='aswg')\n",
    "\n",
    "plt.legend()\n",
    "plt.xscale('log')\n",
    "# plt.ylim([0, 0.25E-3])\n",
    "# plt.yscale('log')"
   ]
  },
  {
   "cell_type": "code",
   "execution_count": null,
   "metadata": {},
   "outputs": [],
   "source": []
  },
  {
   "cell_type": "code",
   "execution_count": null,
   "metadata": {},
   "outputs": [],
   "source": []
  }
 ],
 "metadata": {
  "kernelspec": {
   "display_name": "Python 3",
   "language": "python",
   "name": "python3"
  },
  "language_info": {
   "codemirror_mode": {
    "name": "ipython",
    "version": 3
   },
   "file_extension": ".py",
   "mimetype": "text/x-python",
   "name": "python",
   "nbconvert_exporter": "python",
   "pygments_lexer": "ipython3",
   "version": "3.7.2"
  }
 },
 "nbformat": 4,
 "nbformat_minor": 2
}
